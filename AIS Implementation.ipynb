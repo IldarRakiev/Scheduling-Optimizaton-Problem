{
  "cells": [
    {
      "cell_type": "markdown",
      "id": "sM9zrboQMHj1",
      "metadata": {
        "id": "sM9zrboQMHj1"
      },
      "source": [
        "# Artificial Immune System algorithm implementation\n",
        "\n",
        "The **Artificial Immune System (AIS)** is an optimization algorithm that mimics\n",
        "the adaptive immune response in biological systems. AIS efficiently handles\n",
        "complex tasks like **scheduling** due to its learning and adaptive capabilities. In this project, AIS will be responsible for **distributing families** across available days, maintaining the daily visitor limit (between 125 and 300), while minimizing penalty costs.\n",
        "\n",
        "Here is the implementation:"
      ]
    },
    {
      "cell_type": "markdown",
      "id": "AsyAgRxKNh9P",
      "metadata": {
        "id": "AsyAgRxKNh9P"
      },
      "source": [
        "---\n",
        "\n",
        "Firstly, we need to load the input data and define some constants which are the **boundaries** for our scheduling task:"
      ]
    },
    {
      "cell_type": "code",
      "execution_count": 1,
      "id": "3633e5c6-85c1-4a7f-88d9-c1fc267b2599",
      "metadata": {
        "id": "3633e5c6-85c1-4a7f-88d9-c1fc267b2599"
      },
      "outputs": [],
      "source": [
        "import csv\n",
        "\n",
        "with open('data/family_data.csv', mode='r', newline='', encoding='utf-8') as file:\n",
        "    reader = csv.reader(file)\n",
        "    headers = next(reader)\n",
        "    family_data = [list(map(int, line)) for line in reader]"
      ]
    },
    {
      "cell_type": "code",
      "execution_count": 2,
      "id": "a27cbe79-395f-4350-b87f-fc2a5af50d55",
      "metadata": {
        "id": "a27cbe79-395f-4350-b87f-fc2a5af50d55"
      },
      "outputs": [],
      "source": [
        "# Some constant values\n",
        "num_families = 5000\n",
        "num_days = 100\n",
        "min_occupancy = 125\n",
        "max_occupancy = 300"
      ]
    },
    {
      "cell_type": "markdown",
      "id": "VgLFqL6VN_IM",
      "metadata": {
        "id": "VgLFqL6VN_IM"
      },
      "source": [
        "## Algorithm functions\n",
        "\n",
        "Then let's observe the functions of **AIS algorithm**, step by step:"
      ]
    },
    {
      "cell_type": "markdown",
      "id": "7772daeb-8136-42a9-9d00-f88bb012b741",
      "metadata": {
        "id": "7772daeb-8136-42a9-9d00-f88bb012b741"
      },
      "source": [
        "## `is_valid` function:\n",
        "\n",
        "### **Description**\n",
        "The `is_valid` function checks whether a given solution satisfies the occupancy constraints for the workshop tours. Specifically, it ensures that the number of visitors per day is between the minimum (`min_occupancy`) and maximum (`max_occupancy`) allowed values.\n",
        "\n",
        "### **Parameters**\n",
        "- `solution`: A list where each element represents the day assigned to a family.  \n",
        "  - Example: `[5, 10, 15, ...]` means family 1 is assigned to day 5, family 2 to day 10, etc.\n",
        "\n",
        "### **Returns**\n",
        "- `True` if the solution is valid (i.e., all days have between `min_occupancy` and `max_occupancy` visitors).\n",
        "- `False` if the solution violates the constraints.\n",
        "\n",
        "### **Steps**\n",
        "1. **Initialize Daily Occupancy**:\n",
        "   - Create a list `daily_occupancy` of size `num_days` (100) to track the number of visitors per day.\n",
        "\n",
        "2. **Calculate Occupancy**:\n",
        "   - For each family in the solution:\n",
        "     - Retrieve the assigned day and the number of people in the family.\n",
        "     - Update the `daily_occupancy` list to reflect the number of visitors for that day.\n",
        "\n",
        "3. **Check Constraints**:\n",
        "   - Use a list comprehension to check if all days have between `min_occupancy` (125) and `max_occupancy` (300) visitors.\n",
        "   - Return `True` if all days satisfy the constraints; otherwise, return `False`."
      ]
    },
    {
      "cell_type": "code",
      "execution_count": 5,
      "id": "230d6601-c807-4cd8-999d-70fe22f07793",
      "metadata": {
        "id": "230d6601-c807-4cd8-999d-70fe22f07793"
      },
      "outputs": [],
      "source": [
        "def is_valid(solution):\n",
        "    daily_occupancy = [0] * num_days\n",
        "    for family_id, day in enumerate(solution):\n",
        "        daily_occupancy[day - 1] += family_data[family_id][-1]\n",
        "\n",
        "    return all(min_occupancy <= occupancy <= max_occupancy for occupancy in daily_occupancy)"
      ]
    },
    {
      "cell_type": "markdown",
      "id": "207437aa-2501-4ba1-8fb9-752f97e8113b",
      "metadata": {
        "id": "207437aa-2501-4ba1-8fb9-752f97e8113b"
      },
      "source": [
        "## `initialize_population` function:\n",
        "\n",
        "### **Description**\n",
        "The `initialize_population` function generates an initial population of valid solutions for the workshop scheduling problem. Each solution is a list of days assigned to families, ensuring that the number of visitors per day is between `min_occupancy` (125) and `max_occupancy` (300).\n",
        "\n",
        "To handle the complexity of the problem and ensure valid solutions, the function uses a **greedy algorithm** to prioritize families with more people and assigns them to days first. This approach helps satisfy the constraints more efficiently.\n",
        "\n",
        "### **Parameters**\n",
        "- `population_size`: The number of solutions to generate for the initial population.\n",
        "\n",
        "### **Returns**\n",
        "- A list of valid solutions (each solution is a list of assigned days for all families).\n",
        "\n",
        "---\n",
        "\n",
        "## **Key steps**\n",
        "\n",
        "### **1. Sorting families by size**\n",
        "- Families are sorted in **descending order** by the number of people (`n_people`). This ensures that larger families are assigned first, reducing the likelihood of violating the `max_occupancy` constraint.\n",
        "\n",
        "### **2. Assigning days to families**\n",
        "- For each family, the function tries to assign a day from their preferred choices (`choices`).\n",
        "- If no preferred day is available (i.e., assigning the family to that day would exceed `max_occupancy`), the function selects any valid day.\n",
        "\n",
        "### **3. Ensuring minimum occupancy**\n",
        "- After assigning all families, the function checks if all days have at least `min_occupancy` visitors.\n",
        "- If not, it attempts to **redistribute families** from overpopulated days to underpopulated days while maintaining the constraints.\n"
      ]
    },
    {
      "cell_type": "code",
      "execution_count": 6,
      "id": "20e45526-d13d-4d61-b008-8ddbf502ec02",
      "metadata": {
        "id": "20e45526-d13d-4d61-b008-8ddbf502ec02"
      },
      "outputs": [],
      "source": [
        "import random\n",
        "\n",
        "def initialize_population(population_size):\n",
        "    population = []\n",
        "    for _ in range(population_size):\n",
        "        solution = []\n",
        "        daily_occupancy = [0] * num_days\n",
        "\n",
        "        sorted_families = sorted(family_data, key=lambda x: x[-1], reverse=True)\n",
        "\n",
        "        for family in sorted_families:\n",
        "            choices = family[1:-1]\n",
        "            n_people = family[-1]\n",
        "\n",
        "            valid_choices = [day for day in choices if daily_occupancy[day - 1] + n_people <= max_occupancy]\n",
        "\n",
        "            if valid_choices:\n",
        "                assigned_day = random.choice(valid_choices)\n",
        "            else:\n",
        "                valid_values = [day for day in range(1, num_days + 1) if daily_occupancy[day - 1] + n_people <= max_occupancy]\n",
        "                assigned_day = random.choice(valid_values)\n",
        "\n",
        "            solution.append(assigned_day)\n",
        "            daily_occupancy[assigned_day - 1] += n_people\n",
        "\n",
        "        if all(occupancy >= min_occupancy for occupancy in daily_occupancy):\n",
        "            population.append(solution)\n",
        "        else:\n",
        "            for day in range(num_days):\n",
        "                if daily_occupancy[day] < min_occupancy:\n",
        "                    for family_id, assigned_day in enumerate(solution):\n",
        "                        family = family_data[family_id]\n",
        "                        n_people = family[-1]\n",
        "\n",
        "                        if (daily_occupancy[day] + n_people <= max_occupancy and\n",
        "                            daily_occupancy[assigned_day - 1] - n_people >= min_occupancy):\n",
        "                            solution[family_id] = day + 1\n",
        "                            daily_occupancy[assigned_day - 1] -= n_people\n",
        "                            daily_occupancy[day] += n_people\n",
        "                            break\n",
        "\n",
        "        population.append(solution)\n",
        "\n",
        "    return population"
      ]
    },
    {
      "cell_type": "markdown",
      "id": "f16fec92-e8d7-407a-864a-eff5a8156712",
      "metadata": {
        "id": "f16fec92-e8d7-407a-864a-eff5a8156712"
      },
      "source": [
        "## `evaluate_solution` function:\n",
        "\n",
        "### **Description**\n",
        "The `evaluate_solution` function calculates the total cost of a given solution. The total cost is the sum of two components:\n",
        "1. **Preference cost**: The cost of consolation gifts for families based on how far their assigned day is from their preferred choices.\n",
        "2. **Accounting penalty**: Additional costs incurred due to daily occupancy fluctuations, as defined by Santa's accounting department.\n",
        "\n",
        "### **Parameters**\n",
        "- `solution`: A list where each element represents the day assigned to a family.\n",
        "\n",
        "### **Formula**\n",
        "\n",
        "**Total cost** = **Preference cost** + **Accounting penalty**\n",
        "\n",
        "\n",
        "\n",
        "## Helper function: `calculate_preference_cost`\n",
        "\n",
        "### **Description**\n",
        "The `calculate_preference_cost` function computes the cost of consolation gifts for all families based on their assigned days. The cost depends on how far the assigned day is from their preferred choices.\n",
        "\n",
        "### **Parameters**\n",
        "- `solution`: A list where each element represents the day assigned to a family.\n",
        "\n",
        "### **Steps**\n",
        "1. For each family:\n",
        "   - Determine which choice (if any) corresponds to the assigned day.\n",
        "   - Calculate the cost of gifts based on the choice index and the number of people in the family.\n",
        "2. Sum the costs for all families.\n",
        "\n",
        "### **Cost table**\n",
        "| Choice Index | Cost Formula                          |\n",
        "|--------------|---------------------------------------|\n",
        "| 0            | \\$0                                   |\n",
        "| 1            | \\$50                                  |\n",
        "| 2            | \\$50 + \\$9 × `n_people`               |\n",
        "| 3            | \\$100 + \\$9 × `n_people`              |\n",
        "| 4            | \\$200 + \\$9 × `n_people`              |\n",
        "| 5            | \\$200 + \\$18 × `n_people`             |\n",
        "| 6            | \\$300 + \\$18 × `n_people`             |\n",
        "| 7            | \\$300 + \\$36 × `n_people`             |\n",
        "| 8            | \\$400 + \\$36 × `n_people`             |\n",
        "| 9            | \\$500 + \\$235 × `n_people`            |\n",
        "| Otherwise    | \\$500 + \\$434 × `n_people`            |\n",
        "\n",
        "\n",
        "\n",
        "## Helper function: `calculate_accounting_penalty`\n",
        "\n",
        "### **Description**\n",
        "The `calculate_accounting_penalty` function computes the additional costs incurred due to daily occupancy fluctuations. These costs are based on an empirical formula provided by Santa's accounting department.\n",
        "\n",
        "### **Formula**\n",
        "The accounting penalty is calculated using the following formula:\n",
        "\n",
        "![Accounting Penalty Formula](../data/formula.png)\n",
        "  \n",
        "  where:\n",
        "  - N_d: Number of people on day d.\n",
        "  - N_{d+1}: Number of people on the next day.\n",
        "\n",
        "### **Steps**\n",
        "1. Calculate the daily occupancy for each day.\n",
        "2. Apply the formula to compute the penalty for each day.\n",
        "3. Sum the penalties for all days."
      ]
    },
    {
      "cell_type": "code",
      "execution_count": 7,
      "id": "aac9ff4a-e504-480d-bdd9-3f6b7c00468f",
      "metadata": {
        "id": "aac9ff4a-e504-480d-bdd9-3f6b7c00468f"
      },
      "outputs": [],
      "source": [
        "def calculate_preference_cost(solution):\n",
        "    total_cost = 0\n",
        "    for family_id, assigned_day in enumerate(solution):\n",
        "        family = family_data[family_id]\n",
        "        choices = family[1:-1]\n",
        "        n_people = family[-1]\n",
        "\n",
        "        # Determining which choice corresponds to the assigned day\n",
        "        choice_index = choices.index(assigned_day) if assigned_day in choices else len(choices)\n",
        "\n",
        "        # Calculating the cost of gifts\n",
        "        if choice_index == 0:\n",
        "            cost = 0\n",
        "        elif choice_index == 1:\n",
        "            cost = 50\n",
        "        elif choice_index == 2:\n",
        "            cost = 50 + 9 * n_people\n",
        "        elif choice_index == 3:\n",
        "            cost = 100 + 9 * n_people\n",
        "        elif choice_index == 4:\n",
        "            cost = 200 + 9 * n_people\n",
        "        elif choice_index == 5:\n",
        "            cost = 200 + 18 * n_people\n",
        "        elif choice_index == 6:\n",
        "            cost = 300 + 18 * n_people\n",
        "        elif choice_index == 7:\n",
        "            cost = 300 + 36 * n_people\n",
        "        elif choice_index == 8:\n",
        "            cost = 400 + 36 * n_people\n",
        "        elif choice_index == 9:\n",
        "            cost = 500 + 235 * n_people\n",
        "        else:\n",
        "            cost = 500 + 434 * n_people\n",
        "\n",
        "        total_cost += cost\n",
        "\n",
        "    return total_cost\n",
        "\n",
        "def calculate_accounting_penalty(solution):\n",
        "    daily_occupancy = [0] * num_days\n",
        "    for family_id, assigned_day in enumerate(solution):\n",
        "        n_people = family_data[family_id][-1]\n",
        "        daily_occupancy[assigned_day - 1] += n_people\n",
        "\n",
        "    penalty = 0\n",
        "    for d in range(num_days):\n",
        "        Nd = daily_occupancy[d]\n",
        "        Nd_next = daily_occupancy[d + 1] if d < num_days - 1 else Nd\n",
        "        penalty += ((Nd - 125) / 400) * Nd**(0.5 + abs(Nd - Nd_next) / 50)\n",
        "    return penalty\n",
        "\n",
        "def calculate_affinity(solution):\n",
        "    return calculate_preference_cost(solution) + calculate_accounting_penalty(solution)"
      ]
    },
    {
      "cell_type": "markdown",
      "id": "c0a56387-bf4c-4d37-a1ef-5ae71c3be783",
      "metadata": {
        "id": "c0a56387-bf4c-4d37-a1ef-5ae71c3be783"
      },
      "source": [
        "## `mutate` function:\n",
        "The `mutate` function performs a mutation on the current solution by changing the assigned days for a randomly selected subset of families. If the mutation results in a solution that violates constraints, the function attempts to repair it using a local search.\n",
        "\n",
        "### **Parameters**\n",
        "- `solution`: The current solution (a list of days assigned to each family).\n",
        "- `max_attempts`: The maximum number of attempts to find a valid mutation (default: 100).\n",
        "\n",
        "### **Steps**\n",
        "1. **Select Families to Mutate**:\n",
        "   - Randomly select a small number of families (e.g., 1–5% of all families) to mutate.\n",
        "2. **Apply Mutation**:\n",
        "   - For each selected family, assign a new day randomly chosen from their preferences.\n",
        "3. **Check Validity**:\n",
        "   - If the new solution is valid (satisfies all constraints), return it.\n",
        "4. **Local Search**:\n",
        "   - If the new solution is invalid, use the `local_search` function to repair it.\n",
        "5. **Return Solution**:\n",
        "   - If a valid solution is found within `max_attempts`, return it. Otherwise, return the original solution.\n",
        "\n",
        "### **Example**\n",
        "```python\n",
        "new_solution = mutate(current_solution)"
      ]
    },
    {
      "cell_type": "code",
      "execution_count": 8,
      "id": "392adc30-73d4-48f6-970d-c2a982991486",
      "metadata": {
        "id": "392adc30-73d4-48f6-970d-c2a982991486"
      },
      "outputs": [],
      "source": [
        "def mutate(solution, max_attempts=100):\n",
        "    for _ in range(max_attempts):\n",
        "        num_mutations = max(1, int(len(family_data) * 0.05))\n",
        "        families_to_mutate = random.sample(range(len(family_data)), num_mutations)\n",
        "\n",
        "        new_solution = solution.copy()\n",
        "\n",
        "        for family_id in families_to_mutate:\n",
        "            family = family_data[family_id]\n",
        "            choices = family[1:-1]\n",
        "\n",
        "            new_day = random.choice(choices)\n",
        "            new_solution[family_id] = new_day\n",
        "\n",
        "        if is_valid(new_solution):\n",
        "            return new_solution\n",
        "\n",
        "        new_solution = local_search(new_solution)\n",
        "        if is_valid(new_solution):\n",
        "            return new_solution\n",
        "\n",
        "    return solution"
      ]
    },
    {
      "cell_type": "markdown",
      "id": "d3af5902-77fd-4fe0-8ed9-088c0620b679",
      "metadata": {
        "id": "d3af5902-77fd-4fe0-8ed9-088c0620b679"
      },
      "source": [
        "## `local_search` function:\n",
        "The `local_search` function attempts to repair an invalid solution by moving families between days to satisfy the constraints (minimum 125 and maximum 300 people per day).\n",
        "\n",
        "### **Parameters**\n",
        "- `solution`: The current solution (a list of days assigned to each family).\n",
        "\n",
        "### **Steps**\n",
        "1. **Calculate daily occupancy**:\n",
        "   - Compute the number of people assigned to each day.\n",
        "2. **Fix underpopulated days**:\n",
        "   - For days with fewer than 125 people, try to move families from overpopulated days.\n",
        "3. **Fix overpopulated days**:\n",
        "   - For days with more than 300 people, try to move families to underpopulated days.\n",
        "4. **Return repaired solution**:\n",
        "   - Return the solution after attempting to fix all violations."
      ]
    },
    {
      "cell_type": "code",
      "execution_count": 9,
      "id": "1841493b-bc4e-4f7e-9bc8-516d1b89e687",
      "metadata": {
        "id": "1841493b-bc4e-4f7e-9bc8-516d1b89e687"
      },
      "outputs": [],
      "source": [
        "def local_search(solution):\n",
        "    daily_occupancy = [0] * num_days\n",
        "    for family_id, day in enumerate(solution):\n",
        "        daily_occupancy[day - 1] += family_data[family_id][-1]\n",
        "\n",
        "    for day in range(100):\n",
        "        while daily_occupancy[day] < min_occupancy or daily_occupancy[day] > max_occupancy:\n",
        "            if daily_occupancy[day] < min_occupancy:\n",
        "                # Finding families that can be moved on this day\n",
        "                for family_id, assigned_day in enumerate(solution):\n",
        "                    family = family_data[family_id]\n",
        "                    n_people = family[-1]\n",
        "\n",
        "                    # We check whether it is possible to move the family on this day\n",
        "                    if (daily_occupancy[day] + n_people <= max_occupancy and\n",
        "                        daily_occupancy[assigned_day - 1] - n_people >= min_occupancy):\n",
        "                        # Moving the family\n",
        "                        solution[family_id] = day + 1\n",
        "                        daily_occupancy[assigned_day - 1] -= n_people\n",
        "                        daily_occupancy[day] += n_people\n",
        "                        break\n",
        "                else:\n",
        "                    break\n",
        "\n",
        "            elif daily_occupancy[day] > max_occupancy:\n",
        "                for family_id, assigned_day in enumerate(solution):\n",
        "                    if assigned_day == day + 1:\n",
        "                        family = family_data[family_id]\n",
        "                        n_people = family[-1]\n",
        "\n",
        "                        valid_days = [d for d in range(1, num_days + 1) if daily_occupancy[d - 1] + n_people <= max_occupancy]\n",
        "                        if valid_days:\n",
        "                            new_day = random.choice(valid_days)\n",
        "                            solution[family_id] = new_day\n",
        "                            daily_occupancy[day] -= n_people\n",
        "                            daily_occupancy[new_day - 1] += n_people\n",
        "                            break\n",
        "                else:\n",
        "                    break\n",
        "\n",
        "    return solution"
      ]
    },
    {
      "cell_type": "markdown",
      "id": "4b4a88ed-3d24-4350-b859-0665380bf28b",
      "metadata": {
        "id": "4b4a88ed-3d24-4350-b859-0665380bf28b"
      },
      "source": [
        "## `select_population` function:\n",
        "\n",
        "### **Description**\n",
        "The `select_population` function performs **selection** in the artificial immune system (AIS) algorithm. It combines the current population and the new population (generated through mutation or other operations), evaluates their fitness, and selects the best solutions to form the next generation.\n",
        "\n",
        "### **Parameters**\n",
        "- `population`: The current population of solutions.\n",
        "- `new_population`: The new population of solutions generated through mutation or other operations.\n",
        "\n",
        "### **Returns**\n",
        "- A new population containing the best solutions from the combined population.\n",
        "\n",
        "---\n",
        "\n",
        "### **Steps**\n",
        "\n",
        "### **1. Combine populations**\n",
        "- The current population and the new population are combined into a single list called `combined_population`.\n",
        "\n",
        "### **2. Evaluate solutions**\n",
        "- The fitness of each solution in the combined population is evaluated using the `evaluate_solution` function. This function calculates the total cost of a solution, which includes:\n",
        "  - **Preference Cost**: The cost of consolation gifts for families based on their assigned days.\n",
        "  - **Accounting Penalty**: Additional costs due to daily occupancy fluctuations.\n",
        "\n",
        "### **3. Sort solutions**\n",
        "- The combined population is sorted by their fitness scores in ascending order (lower cost is better).\n",
        "\n",
        "### **4. Select best solutions**\n",
        "- The top `len(population)` solutions are selected to form the next generation. This ensures that the population size remains constant."
      ]
    },
    {
      "cell_type": "code",
      "execution_count": 10,
      "id": "6cd8783e-1678-4003-9360-c42e11345bf2",
      "metadata": {
        "id": "6cd8783e-1678-4003-9360-c42e11345bf2"
      },
      "outputs": [],
      "source": [
        "def select_population(population, new_population, samples_to_save=[]):\n",
        "    combined_population = population + new_population\n",
        "    combined_scores = [calculate_affinity(sol) for sol in combined_population]\n",
        "\n",
        "    sorted_population = [sol for _, sol in sorted(zip(combined_scores, combined_population), key=lambda x: x[0])]\n",
        "\n",
        "    selected_population = sorted_population[:(len(population) - len(samples_to_save))] + samples_to_save\n",
        "    return selected_population"
      ]
    },
    {
      "cell_type": "markdown",
      "id": "b9e14896",
      "metadata": {
        "id": "b9e14896"
      },
      "source": [
        "## Simulated Annealing\n",
        "\n",
        "Simulated Annealing is a probabilistic optimization algorithm inspired by the annealing process in metallurgy. It is used to find a global optimum in a large search space by exploring both good and bad solutions, with the probability of accepting worse solutions decreasing over time.\n",
        "\n",
        "### **Why Add SA to AIS?**\n",
        "- **AIS Limitation**: The Artificial Immune System (AIS) algorithm is good at exploring the search space but may get stuck in local optima.\n",
        "- **SA Strength**: SA can escape local optima by accepting worse solutions with a decreasing probability, allowing it to explore more of the search space.\n",
        "- **Hybrid Benefit**: By combining AIS with SA, we leverage the exploration capabilities of AIS and the exploitation capabilities of SA, leading to better solutions.\n",
        "\n",
        "### **How SA Works**\n",
        "1. **Initialization**: Start with an initial solution and set an initial temperature.\n",
        "2. **Neighbor Generation**: Generate a neighboring solution by making small changes (e.g., mutation).\n",
        "3. **Acceptance Criteria**:\n",
        "   - If the neighbor solution is better, accept it.\n",
        "   - If the neighbor solution is worse, accept it with a probability based on the temperature and the cost difference.\n",
        "4. **Cooling Schedule**: Gradually reduce the temperature to decrease the probability of accepting worse solutions.\n",
        "5. **Termination**: Stop after a fixed number of iterations or when the temperature reaches a minimum value.\n",
        "\n",
        "### **Key Parameters**\n",
        "- **Initial Temperature**: Controls the initial probability of accepting worse solutions.\n",
        "- **Cooling Rate**: Determines how quickly the temperature decreases.\n",
        "- **Maximum Iterations**: The number of iterations SA runs to refine the solution.\n",
        "\n",
        "### **Integration with AIS**\n",
        "- After each iteration of AIS, the best solution is refined using SA.\n",
        "- This hybrid approach ensures that the best solutions found by AIS are further improved, leading to lower total costs.\n",
        "\n",
        "### **Expected Outcome**\n",
        "- The hybrid AIS-SA algorithm should produce **better solutions** (lower total cost) compared to using AIS alone.\n",
        "- The algorithm will be more **robust** and less likely to get stuck in local optima."
      ]
    },
    {
      "cell_type": "code",
      "execution_count": 11,
      "id": "95ad8496",
      "metadata": {
        "id": "95ad8496"
      },
      "outputs": [],
      "source": [
        "import random\n",
        "import math\n",
        "\n",
        "def simulated_annealing(solution, initial_temp, cooling_rate, max_iter):\n",
        "    current_solution = solution.copy()\n",
        "    current_cost = calculate_affinity(current_solution)\n",
        "    best_solution = current_solution.copy()\n",
        "    best_cost = current_cost\n",
        "\n",
        "    temperature = initial_temp\n",
        "\n",
        "    for iteration in range(max_iter):\n",
        "        # Generate a neighbor solution by mutating the current solution\n",
        "        neighbor_solution = mutate(current_solution)\n",
        "        neighbor_cost = calculate_affinity(neighbor_solution)\n",
        "\n",
        "        # Calculate the cost difference\n",
        "        cost_diff = neighbor_cost - current_cost\n",
        "\n",
        "        # Accept the neighbor solution if it's better or with a certain probability\n",
        "        if cost_diff < 0 or random.random() < math.exp(-cost_diff / temperature):\n",
        "            current_solution = neighbor_solution\n",
        "            current_cost = neighbor_cost\n",
        "\n",
        "            # Update the best solution if needed\n",
        "            if current_cost < best_cost:\n",
        "                best_solution = current_solution\n",
        "                best_cost = current_cost\n",
        "\n",
        "        # Cool down the temperature\n",
        "        temperature *= cooling_rate\n",
        "\n",
        "    return best_solution"
      ]
    },
    {
      "cell_type": "markdown",
      "id": "7bea6c3f-bf74-4dd6-bda2-f30c2f771e6a",
      "metadata": {
        "id": "7bea6c3f-bf74-4dd6-bda2-f30c2f771e6a"
      },
      "source": [
        "### Artificial Immune System Algorithm\n",
        "\n",
        "This cell implements an **Artificial Immune System (AIS)** algorithm, which is inspired by the biological immune system. The algorithm evolves a population of solutions over a number of iterations to find the best solution.\n",
        "\n",
        "#### Key Steps:\n",
        "1. **Initialization**:\n",
        "   - A population of solutions is initialized using `initialize_population(pop_size)`.\n",
        "\n",
        "2. **Iteration Loop**:\n",
        "   - **Affinity Calculation**: The fitness (affinity) of each solution is calculated using `calculate_affinity(sol)`.\n",
        "   - **Best Solution Selection**: The solution with the lowest cost (best affinity) is identified.\n",
        "   - **Cost History**: The cost of the best solution is recorded in `cost_history`.\n",
        "   - **Refinement**: The best solution is refined using **Simulated Annealing** to potentially improve it.\n",
        "   - **Mutation**: A new population is generated by mutating the best solution.\n",
        "   - **Selection**: The next generation is selected from the current and new populations.\n",
        "\n",
        "3. **Output**:\n",
        "   - The algorithm returns the best solution found after `max_iter` iterations.\n",
        "\n",
        "#### Parameters:\n",
        "- `pop_size`: Size of the population.\n",
        "- `max_iter`: Maximum number of iterations.\n",
        "\n",
        "#### Helper Functions:\n",
        "- `initialize_population(pop_size)`: Initializes the population.\n",
        "- `calculate_affinity(sol)`: Calculates the fitness of a solution.\n",
        "- `simulated_annealing(solution, initial_temp, cooling_rate, max_iter)`: Refines a solution using simulated annealing.\n",
        "- `mutate(solution)`: Mutates a solution to generate new candidates.\n",
        "- `select_population(old_pop, new_pop)`: Selects the next generation from the old and new populations."
      ]
    },
    {
      "cell_type": "code",
      "execution_count": 14,
      "id": "f618b4c1-693b-4ee3-b459-f980b8ded4c8",
      "metadata": {
        "id": "f618b4c1-693b-4ee3-b459-f980b8ded4c8"
      },
      "outputs": [],
      "source": [
        "def artificial_immune_system(pop_size, max_iter):\n",
        "    # Initialize population with correct format\n",
        "    valid_population = False\n",
        "\n",
        "    while not valid_population:\n",
        "        population = initialize_population(pop_size)\n",
        "        if min([calculate_affinity(sol) for sol in population]) > 0:\n",
        "            valid_population = True\n",
        "\n",
        "    # List to store the cost history\n",
        "    cost_history = []\n",
        "\n",
        "    for iteration in range(max_iter):\n",
        "        # Evaluate the population\n",
        "        affinities = [calculate_affinity(sol) for sol in population]\n",
        "\n",
        "        # Find the best solution in the current population\n",
        "        best_solution = population[affinities.index(min(affinities))]\n",
        "        best_cost = min(affinities)\n",
        "\n",
        "        # Record the cost of the best solution\n",
        "        cost_history.append(best_cost)\n",
        "\n",
        "        if iteration % 5 == 0:\n",
        "            # Print progress\n",
        "            print(f\"Iteration {iteration}, Best Score: {best_cost}\")\n",
        "\n",
        "        # Refine the best solution using Simulated Annealing\n",
        "        refined_solution = simulated_annealing(\n",
        "            best_solution,\n",
        "            initial_temp=1000,  # Initial temperature\n",
        "            cooling_rate=0.95,  # Cooling rate\n",
        "            max_iter=100        # Maximum iterations for SA\n",
        "        )\n",
        "        refined_cost = calculate_affinity(refined_solution)\n",
        "\n",
        "        # Replace the best solution with the refined solution if it's better\n",
        "        if refined_cost < best_cost:\n",
        "            best_solution = refined_solution\n",
        "            best_cost = refined_cost\n",
        "\n",
        "        # Generate new population through mutation\n",
        "        new_population = [mutate(best_solution.copy()) for _ in range(pop_size)]\n",
        "\n",
        "        # Select the next generation\n",
        "        population = select_population(population, new_population)\n",
        "\n",
        "    return best_solution"
      ]
    },
    {
      "cell_type": "code",
      "execution_count": 23,
      "id": "a74a4aec-1e2f-4b34-8a84-2304b8e04989",
      "metadata": {
        "colab": {
          "base_uri": "https://localhost:8080/"
        },
        "id": "a74a4aec-1e2f-4b34-8a84-2304b8e04989",
        "outputId": "c4abd1c5-12ec-4e9c-c50e-6cca4936812a"
      },
      "outputs": [
        {
          "name": "stdout",
          "output_type": "stream",
          "text": [
            "Iteration 0, Best Score: 3111699453.697228\n",
            "Iteration 5, Best Score: 8876406.976835787\n",
            "Iteration 10, Best Score: 6493845.565454026\n",
            "Iteration 15, Best Score: 6493845.565454026\n",
            "Iteration 20, Best Score: 5835298.963393349\n",
            "Iteration 25, Best Score: 5450043.5169769935\n",
            "Iteration 30, Best Score: 5063241.599826975\n",
            "Iteration 35, Best Score: 4998722.443279306\n",
            "Iteration 40, Best Score: 4823663.747940268\n",
            "Iteration 45, Best Score: 4242592.138423221\n",
            "Iteration 50, Best Score: 4170952.6412161724\n",
            "Iteration 55, Best Score: 4031784.649988708\n",
            "Iteration 60, Best Score: 3982853.328359351\n",
            "Iteration 65, Best Score: 3982853.328359351\n",
            "Iteration 70, Best Score: 3931093.8789212164\n",
            "Iteration 75, Best Score: 3931093.8789212164\n",
            "Iteration 80, Best Score: 3908395.910696808\n",
            "Iteration 85, Best Score: 3908395.910696808\n",
            "Iteration 90, Best Score: 3871232.870176079\n",
            "Iteration 95, Best Score: 3871232.870176079\n",
            "Best solution: 3871232.870176079\n"
          ]
        }
      ],
      "source": [
        "solution = artificial_immune_system(300, 100)\n",
        "print(\"Best solution:\", calculate_affinity(solution))"
      ]
    },
    {
      "cell_type": "code",
      "execution_count": 24,
      "id": "21007b02-adc3-49ca-a118-a66a3f2c83f5",
      "metadata": {
        "id": "21007b02-adc3-49ca-a118-a66a3f2c83f5"
      },
      "outputs": [],
      "source": [
        "import pandas as pd\n",
        "\n",
        "family_ids = [id for id in range(0, num_families)]\n",
        "\n",
        "# Create DataFrame\n",
        "data = {'family_id': family_ids, 'assigned_day': solution}\n",
        "df = pd.DataFrame(data)\n",
        "\n",
        "# Writing data to CSV\n",
        "df.to_csv('solution.csv', index=False)"
      ]
    },
    {
      "cell_type": "markdown",
      "id": "erpaXc0uMxrN",
      "metadata": {
        "id": "erpaXc0uMxrN"
      },
      "source": [
        "## Possible improvements:\n",
        "\n",
        "We will try to improve the efficiency of the optimization process using various 'smart' techniques and additional methods:\n",
        "\n",
        "\n",
        "### `smart_mutation` function:\n",
        "\n",
        "The smart_mutation function performs mutations on a given solution, prioritizing days that are close to the family's initial preferences. This approach improves convergence by favoring solutions that align better with family preferences while maintaining valid occupancy constraints. However, it may reduce solution diversity over time.\n",
        "\n",
        "#### **Parameters:**\n",
        "solution: A list where each element represents the day assigned to a family.\n",
        "\n",
        "mutation_rate: The probability of mutating the assigned day for each family (default is 0.05 or 5%).\n",
        "\n",
        "#### **Returns:**\n",
        "\n",
        "A new mutated solution (list of assigned days for all families).\n",
        "\n",
        "#### **Advantages:**\n",
        "Faster Convergence: By favoring mutations to days near the family's existing preference, it speeds up the convergence to local optima. It exploits existing good structures in the solution.\n",
        "\n",
        "Constraint Adherence: It checks max_occupancy constraints when assigning a new day. This reduces the probability of generating invalid solutions.\n",
        "\n",
        "#### **Disadvantages:**\n",
        "Reduced Diversity: The preference for nearby days can cause the algorithm to get stuck in local optima, particularly if the initial solution is far from the global optimum.\n",
        "\n",
        "Dependence on Initial Solution: If the starting solution is poor, the limited mutation window may lead to slow improvement."
      ]
    },
    {
      "cell_type": "code",
      "execution_count": 16,
      "id": "FQpfWUulMxRk",
      "metadata": {
        "id": "FQpfWUulMxRk"
      },
      "outputs": [],
      "source": [
        "def smart_mutation(solution, mutation_rate=0.05):\n",
        "\n",
        "    new_solution = solution.copy()\n",
        "    daily_occupancy = [0] * num_days\n",
        "    for family_id, day in enumerate(new_solution):\n",
        "        daily_occupancy[day - 1] += family_data[family_id][-1]\n",
        "\n",
        "    for family_id in range(len(new_solution)):\n",
        "        if random.random() < mutation_rate:\n",
        "            family = family_data[family_id]\n",
        "            current_day = new_solution[family_id]\n",
        "            choices = family[1:-1]\n",
        "            n_people = family[-1]\n",
        "\n",
        "            nearby_days = [d for d in range(max(1, current_day - 3), min(num_days, current_day + 3))]\n",
        "            valid_days = [d for d in nearby_days if daily_occupancy[d - 1] + n_people <= max_occupancy]\n",
        "\n",
        "            if valid_days:\n",
        "                new_day = random.choice(valid_days)\n",
        "                new_solution[family_id] = new_day\n",
        "                daily_occupancy[current_day - 1] -= n_people\n",
        "                daily_occupancy[new_day - 1] += n_people\n",
        "\n",
        "    if is_valid(new_solution):\n",
        "            return new_solution\n",
        "\n",
        "    new_solution = local_search(new_solution)\n",
        "    if is_valid(new_solution):\n",
        "        return new_solution"
      ]
    },
    {
      "cell_type": "markdown",
      "id": "Bc-APZHWeFBL",
      "metadata": {
        "id": "Bc-APZHWeFBL"
      },
      "source": [
        "### `elitism_selection` function:\n",
        "Preserve the Best Solutions: The core goal is to minimize a cost function (evaluate_solution or calculate_affinity). elitism_selection ensures that the best solutions found so far are directly carried over to the next generation without being subjected to mutation or crossover. This is a safety net to prevent accidental regression. The algorithm attempts to schedule families to different dates to minimize preference and accounting costs. In the evaluate_solution function it is important that the most accurate values are passed to the next iteration and not changed randomly.\n",
        "\n",
        "Accelerate Convergence: By guaranteeing that the best solutions survive, elitism helps the algorithm converge faster. It focuses the search in promising regions of the solution space.\n",
        "\n",
        "#### **Advantages:**\n",
        "Guaranteed Improvement (Monotonic Improvement): Each generation is guaranteed to be at least as good as the previous generation's best, and possibly better. Since the best solutions in a generation always survive to the next, the overall performance of the algorithm tends to improve steadily. It avoids cases where an iteration worsens the initial solution.\n",
        "\n",
        "Faster Convergence: It reduces the search space by guaranteeing that the most promising solutions are always considered, leading to better solutions more quickly.\n",
        "\n",
        "\n",
        "#### **Disadvantages:**\n",
        "Premature Convergence: Strong selection pressure towards elite solutions reduces diversity, hindering exploration of potentially better solutions.\n",
        "\n",
        "Stuck in Local Optima: Dominance by a few elite solutions can cause the algorithm to converge to suboptimal results if the initial elite solutions are not globally optimal. The algorithm loses the ability to explore other ranges of options."
      ]
    },
    {
      "cell_type": "code",
      "execution_count": 18,
      "id": "odDDs_7BfSse",
      "metadata": {
        "id": "odDDs_7BfSse"
      },
      "outputs": [],
      "source": [
        "def elitism_selection(population, fitness_scores, num_elites=5):\n",
        "    \"\"\"\n",
        "    Saves the best solutions (elite solutions)\n",
        "    \"\"\"\n",
        "    sorted_indices = sorted(range(len(fitness_scores)), key=lambda i: fitness_scores[i])\n",
        "    elites = [population[i] for i in sorted_indices[:num_elites]]\n",
        "\n",
        "    return elites"
      ]
    },
    {
      "cell_type": "markdown",
      "id": "twqhmexanVAd",
      "metadata": {
        "id": "twqhmexanVAd"
      },
      "source": [
        "### `antibody_competition` function:\n",
        "The antibody_competition function, in the context of this scheduling problem, would implement a selective pressure on the algorithm: this would eliminate candidate solutions based on cost.\n",
        "A selection process simulates the \"survival of the fittest\"\n",
        "\n",
        "Simulate competition between antibodies for resources (survival).\n",
        "For each antibody, randomly sample k other antibodies and compare affinities.\n",
        "The antibody with the lowest affinity (highest cost) is removed.\n",
        "This is a more aggressive selection approach than just sorting.\n",
        "\n",
        "Args:\n",
        "    population: A list of solutions.\n",
        "    fitness_scores: A list of fitness scores corresponding to each solution.\n",
        "    k: The number of competitors to sample for each antibody.\n",
        "\n",
        "Returns:\n",
        "        A new population with the weaker antibodies removed."
      ]
    },
    {
      "cell_type": "code",
      "execution_count": 19,
      "id": "IocXMLGFnUt9",
      "metadata": {
        "id": "IocXMLGFnUt9"
      },
      "outputs": [],
      "source": [
        "import random\n",
        "\n",
        "def antibody_competition(population, fitness_scores, k=5):\n",
        "    new_population = population[:]  # Create a copy to avoid modifying the original\n",
        "    to_remove = []\n",
        "\n",
        "    for i in range(len(population)):\n",
        "        competitors = random.sample(range(len(population)), k)  # Select k random competitors\n",
        "        competitors.append(i)  # Add the current antibody to the competition\n",
        "\n",
        "        worst_index = competitors[0]\n",
        "        for index in competitors:\n",
        "            if fitness_scores[index] > fitness_scores[worst_index]:  # Higher score is worse\n",
        "                worst_index = index\n",
        "\n",
        "        if worst_index == i:  # If the current antibody is the worst\n",
        "            to_remove.append(i)\n",
        "\n",
        "    # Remove the antibodies in reverse order to avoid index issues\n",
        "    to_remove.sort(reverse=True)\n",
        "    for index in to_remove:\n",
        "        if index < len(new_population): # Check if the index is still valid\n",
        "            del new_population[index]\n",
        "\n",
        "    return new_population\n"
      ]
    },
    {
      "cell_type": "markdown",
      "id": "9gncEX1b5DvJ",
      "metadata": {
        "id": "9gncEX1b5DvJ"
      },
      "source": [
        "\n",
        "---\n",
        "\n",
        "### **Summation:**\n",
        "\n",
        "Now let's use these new functions to observe how it can help us reach **better results** in optimisation in terms of this scheduling problem:  "
      ]
    },
    {
      "cell_type": "code",
      "execution_count": 25,
      "id": "QoZwXWiO5Bhx",
      "metadata": {
        "id": "QoZwXWiO5Bhx"
      },
      "outputs": [],
      "source": [
        "def artificial_immune_system_updated(pop_size, max_iter):\n",
        "\n",
        "    # Initialize population with correct format\n",
        "    valid_population = False\n",
        "\n",
        "    while not valid_population:\n",
        "        population = initialize_population(pop_size)\n",
        "        if min([calculate_affinity(sol) for sol in population]) > 0:\n",
        "            valid_population = True\n",
        "\n",
        "    # List to store the cost history\n",
        "    cost_history = []\n",
        "\n",
        "    for iteration in range(max_iter):\n",
        "        # Evaluate the population\n",
        "        affinities = [calculate_affinity(sol) for sol in population]\n",
        "\n",
        "        # Competition phase\n",
        "        population = antibody_competition(population, affinities, k=5)\n",
        "\n",
        "        # Find the best solution in the current population\n",
        "        best_solution = population[affinities.index(min(affinities))]\n",
        "        best_cost = min(affinities)\n",
        "\n",
        "        # Record the cost of the best solution\n",
        "        cost_history.append(best_cost)\n",
        "\n",
        "        while len(population) < pop_size:\n",
        "            population.append(smart_mutation(best_solution.copy()))\n",
        "\n",
        "        if iteration % 5 == 0:\n",
        "            # Print progress\n",
        "            print(f\"Iteration {iteration}, Best Score: {best_cost}\")\n",
        "\n",
        "        # Refine the best solution using Simulated Annealing\n",
        "        refined_solution = simulated_annealing(\n",
        "            best_solution,\n",
        "            initial_temp=1000,  # Initial temperature\n",
        "            cooling_rate=0.95,  # Cooling rate\n",
        "            max_iter=100        # Maximum iterations for SA\n",
        "        )\n",
        "        refined_cost = calculate_affinity(refined_solution)\n",
        "\n",
        "        # Replace the best solution with the refined solution if it's better\n",
        "        if refined_cost < best_cost:\n",
        "            best_solution = refined_solution\n",
        "            best_cost = refined_cost\n",
        "\n",
        "        # Generate new population through mutation\n",
        "        new_population = [smart_mutation(best_solution.copy()) for _ in range(pop_size)]\n",
        "\n",
        "        # Find elite solutions to save\n",
        "        elite_solutions = elitism_selection(population, affinities, num_elites = int(pop_size * 0.05) ) # 5% of the best solutions in population will be elite\n",
        "\n",
        "        # Select the next generation (with elite solutions saved)\n",
        "        population = select_population(population, new_population, elite_solutions)\n",
        "\n",
        "    return best_solution"
      ]
    },
    {
      "cell_type": "code",
      "execution_count": 27,
      "id": "Jj9GWEnqBZWy",
      "metadata": {
        "colab": {
          "base_uri": "https://localhost:8080/"
        },
        "id": "Jj9GWEnqBZWy",
        "outputId": "35e88bc8-291f-460a-fc07-aefeaac31265"
      },
      "outputs": [
        {
          "name": "stdout",
          "output_type": "stream",
          "text": [
            "Iteration 0, Best Score: 3467334776.0898137\n",
            "Iteration 5, Best Score: 7598694.7782966485\n",
            "Iteration 10, Best Score: 6703511.604210322\n",
            "Iteration 15, Best Score: 6107569.270682612\n",
            "Iteration 20, Best Score: 5572057.504987125\n",
            "Iteration 25, Best Score: 5163646.2409392\n",
            "Iteration 30, Best Score: 5163646.2409392\n",
            "Iteration 35, Best Score: 5144238.60691812\n",
            "Iteration 40, Best Score: 5021382.483508813\n",
            "Iteration 45, Best Score: 5021382.483508813\n",
            "Iteration 50, Best Score: 5009578.531708243\n",
            "Iteration 55, Best Score: 5009578.531708243\n",
            "Iteration 60, Best Score: 5009578.531708243\n",
            "Iteration 65, Best Score: 5009578.531708243\n",
            "Iteration 70, Best Score: 4880735.35475973\n",
            "Iteration 75, Best Score: 4846625.279988932\n",
            "Iteration 80, Best Score: 4812495.491103159\n",
            "Iteration 85, Best Score: 4812495.491103159\n",
            "Iteration 90, Best Score: 4812495.491103159\n",
            "Iteration 95, Best Score: 4812495.491103159\n",
            "Best solution: 4810830.459992483\n"
          ]
        }
      ],
      "source": [
        "solution_new = artificial_immune_system_updated(100, 100)\n",
        "print(\"Best solution:\", calculate_affinity(solution_new))"
      ]
    },
    {
      "cell_type": "markdown",
      "id": "rB9BAEi6YLAg",
      "metadata": {
        "id": "rB9BAEi6YLAg"
      },
      "source": [
        "As we can see, these modifications doesn't affect significantly on the result."
      ]
    },
    {
      "cell_type": "markdown",
      "id": "IA7VUw54YTSO",
      "metadata": {
        "id": "IA7VUw54YTSO"
      },
      "source": [
        "\n",
        "\n",
        "---\n",
        "\n",
        "\n",
        "## Using different numbers of parameters\n",
        "\n",
        "\n",
        "Let's see how tuning the parameters of our AIS algorithm can affect on performance of the function:\n",
        "\n",
        "### 1. Size of population\n",
        "\n",
        "We will use different **numbers of population size** and observe how it can affect:"
      ]
    },
    {
      "cell_type": "code",
      "execution_count": null,
      "id": "LtiSf00zlge4",
      "metadata": {
        "colab": {
          "base_uri": "https://localhost:8080/"
        },
        "id": "LtiSf00zlge4",
        "outputId": "75e987be-f80b-41b0-fa70-de25f5f7da73"
      },
      "outputs": [
        {
          "name": "stdout",
          "output_type": "stream",
          "text": [
            "Requirement already satisfied: plotly in /usr/local/lib/python3.11/dist-packages (5.24.1)\n",
            "Requirement already satisfied: tenacity>=6.2.0 in /usr/local/lib/python3.11/dist-packages (from plotly) (9.1.2)\n",
            "Requirement already satisfied: packaging in /usr/local/lib/python3.11/dist-packages (from plotly) (24.2)\n"
          ]
        }
      ],
      "source": [
        "!pip install plotly"
      ]
    },
    {
      "cell_type": "code",
      "execution_count": 19,
      "id": "lO925V-pgI8Y",
      "metadata": {
        "colab": {
          "base_uri": "https://localhost:8080/",
          "height": 774
        },
        "id": "lO925V-pgI8Y",
        "outputId": "0faa550e-195b-49b0-db5d-ec6019b80b80"
      },
      "outputs": [
        {
          "name": "stdout",
          "output_type": "stream",
          "text": [
            "Size: 50, Avg: 4993408.82 ± 781328.41\n",
            "Size: 100, Avg: 4512926.43 ± 303963.08\n",
            "Size: 150, Avg: 4724739.40 ± 610281.98\n",
            "Size: 200, Avg: 4381936.42 ± 322335.74\n",
            "Size: 250, Avg: 4253866.38 ± 262725.28\n",
            "Size: 300, Avg: 4293871.32 ± 506067.34\n",
            "Size: 350, Avg: 4324877.28 ± 302458.12\n",
            "Size: 400, Avg: 4702270.08 ± 527485.77\n"
          ]
        },
        {
          "data": {
            "image/png": "[encoded data removed]",
            "text/plain": [
              "<Figure size 1200x700 with 1 Axes>"
            ]
          },
          "metadata": {},
          "output_type": "display_data"
        }
      ],
      "source": [
        "import numpy as np\n",
        "import matplotlib.pyplot as plt\n",
        "\n",
        "population_size = [50, 100, 150, 200, 250, 300, 350, 400]\n",
        "\n",
        "num_runs = 5  # Number of runs for each population size\n",
        "average_results = []\n",
        "std_deviation = []\n",
        "\n",
        "for size in population_size:\n",
        "    run_results = []\n",
        "    for _ in range(num_runs):\n",
        "        run_results.append(calculate_affinity(artificial_immune_system(size, 100)))\n",
        "\n",
        "    average_results.append(np.mean(run_results))\n",
        "    std_deviation.append(np.std(run_results))\n",
        "    print(f\"Size: {size}, Avg: {average_results[-1]:.2f} ± {std_deviation[-1]:.2f}\")\n",
        "\n",
        "# Graph with confidence intervals\n",
        "plt.figure(figsize=(12, 7))\n",
        "plt.errorbar(population_size, average_results, yerr=std_deviation,\n",
        "             fmt='o-', capsize=5, capthick=2, linewidth=2)\n",
        "plt.title('Dependence of the quality of the solution on the population size (average for 5 runs)', fontsize=14)\n",
        "plt.xlabel('Population size', fontsize=12)\n",
        "plt.ylabel('Average final cost', fontsize=12)\n",
        "plt.grid(True, linestyle='--', alpha=0.7)\n",
        "plt.xticks(population_size)\n",
        "plt.tight_layout()\n",
        "plt.show()"
      ]
    },
    {
      "cell_type": "markdown",
      "id": "3oH4v57WTTrK",
      "metadata": {
        "id": "3oH4v57WTTrK"
      },
      "source": [
        "As we can see, size of 250 is the most suitable in this algorithm, striking a balance\n",
        "between diversity and computational efficiency.\n",
        "\n",
        "- But we need to note that for a population size of 300, the larger standard deviation shows us that, with this size value, we can achieve better results overall (not average results) - for instance, we got the best solution using a size of 300."
      ]
    },
    {
      "cell_type": "markdown",
      "id": "5TuTwFAof_-N",
      "metadata": {
        "id": "5TuTwFAof_-N"
      },
      "source": [
        "---\n",
        "\n",
        "\n",
        "## Comparsion with other optimization algorithms\n",
        "\n",
        "To assess the relative performance of our AIS-based approach, we compared it with two other well-known metaheuristic algorithms: **Artificial Bee Colony (ABC)** and **Genetic Algorithm (GA)**. Each algorithm was tested under comparable conditions.\n",
        "\n",
        "| Chosen Algorithm |   Best Cost   |\n",
        "|------------------|---------------|\n",
        "|    AIS (ours)    | 3,871,232.87  |\n",
        "|    GA            | 4,900,340.53  |\n",
        "|    ABC           | 6,146,535.72  |\n",
        "\n",
        "### Observations:\n",
        "\n",
        "- AIS is well-suited for **constraint-heavy** optimization tasks like the Santa scheduling problem.\n",
        "- All three algorithms are capable of producing valid solutions and adapting to the problem structure.\n",
        "- AIS **outperformed** both ABC and GA, with the latter being closer in performance.\n",
        "- With more fine-tuning, GA and ABC could potentially yield **better results**. However, AIS remains the most **flexible and effective** method under the current framework.\n"
      ]
    }
  ],
  "metadata": {
    "colab": {
      "provenance": []
    },
    "kernelspec": {
      "display_name": "Python 3",
      "language": "python",
      "name": "python3"
    },
    "language_info": {
      "codemirror_mode": {
        "name": "ipython",
        "version": 3
      },
      "file_extension": ".py",
      "mimetype": "text/x-python",
      "name": "python",
      "nbconvert_exporter": "python",
      "pygments_lexer": "ipython3",
      "version": "3.10.11"
    }
  },
  "nbformat": 4,
  "nbformat_minor": 5
}
